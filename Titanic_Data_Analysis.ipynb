{
 "cells": [
  {
   "cell_type": "code",
   "execution_count": 1,
   "metadata": {},
   "outputs": [
    {
     "data": {
      "text/html": [
       "<div>\n",
       "<style scoped>\n",
       "    .dataframe tbody tr th:only-of-type {\n",
       "        vertical-align: middle;\n",
       "    }\n",
       "\n",
       "    .dataframe tbody tr th {\n",
       "        vertical-align: top;\n",
       "    }\n",
       "\n",
       "    .dataframe thead th {\n",
       "        text-align: right;\n",
       "    }\n",
       "</style>\n",
       "<table border=\"1\" class=\"dataframe\">\n",
       "  <thead>\n",
       "    <tr style=\"text-align: right;\">\n",
       "      <th></th>\n",
       "      <th>PassengerId</th>\n",
       "      <th>Survived</th>\n",
       "      <th>Pclass</th>\n",
       "      <th>Name</th>\n",
       "      <th>Sex</th>\n",
       "      <th>Age</th>\n",
       "      <th>SibSp</th>\n",
       "      <th>Parch</th>\n",
       "      <th>Ticket</th>\n",
       "      <th>Fare</th>\n",
       "      <th>Cabin</th>\n",
       "      <th>Embarked</th>\n",
       "    </tr>\n",
       "  </thead>\n",
       "  <tbody>\n",
       "    <tr>\n",
       "      <th>0</th>\n",
       "      <td>1</td>\n",
       "      <td>0</td>\n",
       "      <td>3</td>\n",
       "      <td>Braund, Mr. Owen Harris</td>\n",
       "      <td>male</td>\n",
       "      <td>22.0</td>\n",
       "      <td>1</td>\n",
       "      <td>0</td>\n",
       "      <td>A/5 21171</td>\n",
       "      <td>7.2500</td>\n",
       "      <td>NaN</td>\n",
       "      <td>S</td>\n",
       "    </tr>\n",
       "    <tr>\n",
       "      <th>1</th>\n",
       "      <td>2</td>\n",
       "      <td>1</td>\n",
       "      <td>1</td>\n",
       "      <td>Cumings, Mrs. John Bradley (Florence Briggs Th...</td>\n",
       "      <td>female</td>\n",
       "      <td>38.0</td>\n",
       "      <td>1</td>\n",
       "      <td>0</td>\n",
       "      <td>PC 17599</td>\n",
       "      <td>71.2833</td>\n",
       "      <td>C85</td>\n",
       "      <td>C</td>\n",
       "    </tr>\n",
       "    <tr>\n",
       "      <th>2</th>\n",
       "      <td>3</td>\n",
       "      <td>1</td>\n",
       "      <td>3</td>\n",
       "      <td>Heikkinen, Miss. Laina</td>\n",
       "      <td>female</td>\n",
       "      <td>26.0</td>\n",
       "      <td>0</td>\n",
       "      <td>0</td>\n",
       "      <td>STON/O2. 3101282</td>\n",
       "      <td>7.9250</td>\n",
       "      <td>NaN</td>\n",
       "      <td>S</td>\n",
       "    </tr>\n",
       "    <tr>\n",
       "      <th>3</th>\n",
       "      <td>4</td>\n",
       "      <td>1</td>\n",
       "      <td>1</td>\n",
       "      <td>Futrelle, Mrs. Jacques Heath (Lily May Peel)</td>\n",
       "      <td>female</td>\n",
       "      <td>35.0</td>\n",
       "      <td>1</td>\n",
       "      <td>0</td>\n",
       "      <td>113803</td>\n",
       "      <td>53.1000</td>\n",
       "      <td>C123</td>\n",
       "      <td>S</td>\n",
       "    </tr>\n",
       "    <tr>\n",
       "      <th>4</th>\n",
       "      <td>5</td>\n",
       "      <td>0</td>\n",
       "      <td>3</td>\n",
       "      <td>Allen, Mr. William Henry</td>\n",
       "      <td>male</td>\n",
       "      <td>35.0</td>\n",
       "      <td>0</td>\n",
       "      <td>0</td>\n",
       "      <td>373450</td>\n",
       "      <td>8.0500</td>\n",
       "      <td>NaN</td>\n",
       "      <td>S</td>\n",
       "    </tr>\n",
       "    <tr>\n",
       "      <th>5</th>\n",
       "      <td>6</td>\n",
       "      <td>0</td>\n",
       "      <td>3</td>\n",
       "      <td>Moran, Mr. James</td>\n",
       "      <td>male</td>\n",
       "      <td>NaN</td>\n",
       "      <td>0</td>\n",
       "      <td>0</td>\n",
       "      <td>330877</td>\n",
       "      <td>8.4583</td>\n",
       "      <td>NaN</td>\n",
       "      <td>Q</td>\n",
       "    </tr>\n",
       "    <tr>\n",
       "      <th>6</th>\n",
       "      <td>7</td>\n",
       "      <td>0</td>\n",
       "      <td>1</td>\n",
       "      <td>McCarthy, Mr. Timothy J</td>\n",
       "      <td>male</td>\n",
       "      <td>54.0</td>\n",
       "      <td>0</td>\n",
       "      <td>0</td>\n",
       "      <td>17463</td>\n",
       "      <td>51.8625</td>\n",
       "      <td>E46</td>\n",
       "      <td>S</td>\n",
       "    </tr>\n",
       "    <tr>\n",
       "      <th>7</th>\n",
       "      <td>8</td>\n",
       "      <td>0</td>\n",
       "      <td>3</td>\n",
       "      <td>Palsson, Master. Gosta Leonard</td>\n",
       "      <td>male</td>\n",
       "      <td>2.0</td>\n",
       "      <td>3</td>\n",
       "      <td>1</td>\n",
       "      <td>349909</td>\n",
       "      <td>21.0750</td>\n",
       "      <td>NaN</td>\n",
       "      <td>S</td>\n",
       "    </tr>\n",
       "    <tr>\n",
       "      <th>8</th>\n",
       "      <td>9</td>\n",
       "      <td>1</td>\n",
       "      <td>3</td>\n",
       "      <td>Johnson, Mrs. Oscar W (Elisabeth Vilhelmina Berg)</td>\n",
       "      <td>female</td>\n",
       "      <td>27.0</td>\n",
       "      <td>0</td>\n",
       "      <td>2</td>\n",
       "      <td>347742</td>\n",
       "      <td>11.1333</td>\n",
       "      <td>NaN</td>\n",
       "      <td>S</td>\n",
       "    </tr>\n",
       "    <tr>\n",
       "      <th>9</th>\n",
       "      <td>10</td>\n",
       "      <td>1</td>\n",
       "      <td>2</td>\n",
       "      <td>Nasser, Mrs. Nicholas (Adele Achem)</td>\n",
       "      <td>female</td>\n",
       "      <td>14.0</td>\n",
       "      <td>1</td>\n",
       "      <td>0</td>\n",
       "      <td>237736</td>\n",
       "      <td>30.0708</td>\n",
       "      <td>NaN</td>\n",
       "      <td>C</td>\n",
       "    </tr>\n",
       "  </tbody>\n",
       "</table>\n",
       "</div>"
      ],
      "text/plain": [
       "   PassengerId  Survived  Pclass  \\\n",
       "0            1         0       3   \n",
       "1            2         1       1   \n",
       "2            3         1       3   \n",
       "3            4         1       1   \n",
       "4            5         0       3   \n",
       "5            6         0       3   \n",
       "6            7         0       1   \n",
       "7            8         0       3   \n",
       "8            9         1       3   \n",
       "9           10         1       2   \n",
       "\n",
       "                                                Name     Sex   Age  SibSp  \\\n",
       "0                            Braund, Mr. Owen Harris    male  22.0      1   \n",
       "1  Cumings, Mrs. John Bradley (Florence Briggs Th...  female  38.0      1   \n",
       "2                             Heikkinen, Miss. Laina  female  26.0      0   \n",
       "3       Futrelle, Mrs. Jacques Heath (Lily May Peel)  female  35.0      1   \n",
       "4                           Allen, Mr. William Henry    male  35.0      0   \n",
       "5                                   Moran, Mr. James    male   NaN      0   \n",
       "6                            McCarthy, Mr. Timothy J    male  54.0      0   \n",
       "7                     Palsson, Master. Gosta Leonard    male   2.0      3   \n",
       "8  Johnson, Mrs. Oscar W (Elisabeth Vilhelmina Berg)  female  27.0      0   \n",
       "9                Nasser, Mrs. Nicholas (Adele Achem)  female  14.0      1   \n",
       "\n",
       "   Parch            Ticket     Fare Cabin Embarked  \n",
       "0      0         A/5 21171   7.2500   NaN        S  \n",
       "1      0          PC 17599  71.2833   C85        C  \n",
       "2      0  STON/O2. 3101282   7.9250   NaN        S  \n",
       "3      0            113803  53.1000  C123        S  \n",
       "4      0            373450   8.0500   NaN        S  \n",
       "5      0            330877   8.4583   NaN        Q  \n",
       "6      0             17463  51.8625   E46        S  \n",
       "7      1            349909  21.0750   NaN        S  \n",
       "8      2            347742  11.1333   NaN        S  \n",
       "9      0            237736  30.0708   NaN        C  "
      ]
     },
     "execution_count": 1,
     "metadata": {},
     "output_type": "execute_result"
    }
   ],
   "source": [
    "import pandas as pd\n",
    "import numpy as np\n",
    "import seaborn as sns\n",
    "import matplotlib.pyplot as plt\n",
    "%matplotlib inline\n",
    "import math\n",
    "\n",
    "titanic_dataset= pd.read_csv('train.csv')\n",
    "titanic_dataset.head(10)"
   ]
  },
  {
   "cell_type": "code",
   "execution_count": 2,
   "metadata": {},
   "outputs": [
    {
     "name": "stdout",
     "output_type": "stream",
     "text": [
      "Number of Passengers:891\n"
     ]
    }
   ],
   "source": [
    "print(\"Number of Passengers:\"+str(len(titanic_dataset)))"
   ]
  },
  {
   "cell_type": "code",
   "execution_count": 3,
   "metadata": {},
   "outputs": [],
   "source": [
    "##Analyse Data\n",
    "#sns.countplot(x=\"Survived\",data=titanic_dataset)"
   ]
  },
  {
   "cell_type": "code",
   "execution_count": 4,
   "metadata": {},
   "outputs": [],
   "source": [
    "#sns.countplot(x=\"Survived\",hue=\"Sex\",data=titanic_dataset)"
   ]
  },
  {
   "cell_type": "code",
   "execution_count": 5,
   "metadata": {},
   "outputs": [],
   "source": [
    "#sns.countplot(x=\"Survived\",hue=\"Pclass\",data=titanic_dataset)"
   ]
  },
  {
   "cell_type": "code",
   "execution_count": 6,
   "metadata": {},
   "outputs": [],
   "source": [
    "#titanic_dataset['Age'].plot.hist()"
   ]
  },
  {
   "cell_type": "code",
   "execution_count": 7,
   "metadata": {
    "scrolled": true
   },
   "outputs": [],
   "source": [
    "#titanic_dataset['Fare'].plot.hist()"
   ]
  },
  {
   "cell_type": "code",
   "execution_count": 8,
   "metadata": {},
   "outputs": [],
   "source": [
    "#sns.countplot(x=\"SibSp\",data=titanic_dataset)"
   ]
  },
  {
   "cell_type": "code",
   "execution_count": 9,
   "metadata": {},
   "outputs": [],
   "source": [
    "## Data Wrangling ---Removing dataset with null value\n",
    "#titanic_dataset.isnull()"
   ]
  },
  {
   "cell_type": "code",
   "execution_count": 10,
   "metadata": {
    "scrolled": true
   },
   "outputs": [],
   "source": [
    "#titanic_dataset.isnull().sum()"
   ]
  },
  {
   "cell_type": "code",
   "execution_count": 11,
   "metadata": {},
   "outputs": [],
   "source": [
    "#sns.heatmap(titanic_dataset.isnull(),yticklabels=False)"
   ]
  },
  {
   "cell_type": "code",
   "execution_count": 12,
   "metadata": {
    "scrolled": true
   },
   "outputs": [],
   "source": [
    "#sns.boxplot(x='Pclass',y='Age',data=titanic_dataset)"
   ]
  },
  {
   "cell_type": "code",
   "execution_count": 13,
   "metadata": {},
   "outputs": [],
   "source": [
    "#titanic_dataset.drop('Cabin',axis=1,inplace=True)\n",
    "#titanic_dataset.dropna(inplace=True)\n",
    "#sns.heatmap(titanic_dataset.isnull(),yticklabels=False,cbar=False)"
   ]
  },
  {
   "cell_type": "code",
   "execution_count": 14,
   "metadata": {},
   "outputs": [],
   "source": [
    "#titanic_dataset.isnull().sum()\n",
    "#titanic_dataset.head()"
   ]
  },
  {
   "cell_type": "code",
   "execution_count": 15,
   "metadata": {},
   "outputs": [],
   "source": [
    "#sex=pd.get_dummies(titanic_dataset['Sex'],drop_first=True)\n",
    "#sex.head(5)"
   ]
  },
  {
   "cell_type": "code",
   "execution_count": 16,
   "metadata": {},
   "outputs": [],
   "source": [
    "#embark=pd.get_dummies(titanic_dataset['Embarked'],drop_first=True)\n",
    "#embark.head(5)"
   ]
  },
  {
   "cell_type": "code",
   "execution_count": 17,
   "metadata": {},
   "outputs": [],
   "source": [
    "#pcl=pd.get_dummies(titanic_dataset['Pclass'],drop_first=True)\n",
    "#pcl.head(5)"
   ]
  },
  {
   "cell_type": "code",
   "execution_count": 18,
   "metadata": {},
   "outputs": [],
   "source": [
    "#titanic_dataset=pd.concat([titanic_dataset,sex,embark,pcl],axis=1)\n",
    "#titanic_dataset.head(5)"
   ]
  },
  {
   "cell_type": "code",
   "execution_count": 19,
   "metadata": {
    "scrolled": true
   },
   "outputs": [
    {
     "data": {
      "text/html": [
       "<div>\n",
       "<style scoped>\n",
       "    .dataframe tbody tr th:only-of-type {\n",
       "        vertical-align: middle;\n",
       "    }\n",
       "\n",
       "    .dataframe tbody tr th {\n",
       "        vertical-align: top;\n",
       "    }\n",
       "\n",
       "    .dataframe thead th {\n",
       "        text-align: right;\n",
       "    }\n",
       "</style>\n",
       "<table border=\"1\" class=\"dataframe\">\n",
       "  <thead>\n",
       "    <tr style=\"text-align: right;\">\n",
       "      <th></th>\n",
       "      <th>PassengerId</th>\n",
       "      <th>Survived</th>\n",
       "    </tr>\n",
       "  </thead>\n",
       "  <tbody>\n",
       "    <tr>\n",
       "      <th>0</th>\n",
       "      <td>1</td>\n",
       "      <td>0</td>\n",
       "    </tr>\n",
       "    <tr>\n",
       "      <th>1</th>\n",
       "      <td>2</td>\n",
       "      <td>1</td>\n",
       "    </tr>\n",
       "    <tr>\n",
       "      <th>2</th>\n",
       "      <td>3</td>\n",
       "      <td>1</td>\n",
       "    </tr>\n",
       "    <tr>\n",
       "      <th>3</th>\n",
       "      <td>4</td>\n",
       "      <td>1</td>\n",
       "    </tr>\n",
       "    <tr>\n",
       "      <th>4</th>\n",
       "      <td>5</td>\n",
       "      <td>0</td>\n",
       "    </tr>\n",
       "  </tbody>\n",
       "</table>\n",
       "</div>"
      ],
      "text/plain": [
       "   PassengerId  Survived\n",
       "0            1         0\n",
       "1            2         1\n",
       "2            3         1\n",
       "3            4         1\n",
       "4            5         0"
      ]
     },
     "execution_count": 19,
     "metadata": {},
     "output_type": "execute_result"
    }
   ],
   "source": [
    "#titanic_dataset.drop('Name',axis=1)\n",
    "titanic_dataset.drop([\"Cabin\",\"Sex\",\"Embarked\",\"Pclass\",\"Name\",\"Ticket\",\"Age\",\"SibSp\",\"Fare\",\"Parch\"],axis=1,inplace=True)\n",
    "titanic_dataset.head()"
   ]
  },
  {
   "cell_type": "code",
   "execution_count": 20,
   "metadata": {},
   "outputs": [
    {
     "data": {
      "text/html": [
       "<div>\n",
       "<style scoped>\n",
       "    .dataframe tbody tr th:only-of-type {\n",
       "        vertical-align: middle;\n",
       "    }\n",
       "\n",
       "    .dataframe tbody tr th {\n",
       "        vertical-align: top;\n",
       "    }\n",
       "\n",
       "    .dataframe thead th {\n",
       "        text-align: right;\n",
       "    }\n",
       "</style>\n",
       "<table border=\"1\" class=\"dataframe\">\n",
       "  <thead>\n",
       "    <tr style=\"text-align: right;\">\n",
       "      <th></th>\n",
       "      <th>PassengerId</th>\n",
       "      <th>Survived</th>\n",
       "    </tr>\n",
       "  </thead>\n",
       "  <tbody>\n",
       "    <tr>\n",
       "      <th>473</th>\n",
       "      <td>474</td>\n",
       "      <td>1</td>\n",
       "    </tr>\n",
       "    <tr>\n",
       "      <th>474</th>\n",
       "      <td>475</td>\n",
       "      <td>0</td>\n",
       "    </tr>\n",
       "    <tr>\n",
       "      <th>475</th>\n",
       "      <td>476</td>\n",
       "      <td>0</td>\n",
       "    </tr>\n",
       "    <tr>\n",
       "      <th>476</th>\n",
       "      <td>477</td>\n",
       "      <td>0</td>\n",
       "    </tr>\n",
       "    <tr>\n",
       "      <th>477</th>\n",
       "      <td>478</td>\n",
       "      <td>0</td>\n",
       "    </tr>\n",
       "  </tbody>\n",
       "</table>\n",
       "</div>"
      ],
      "text/plain": [
       "     PassengerId  Survived\n",
       "473          474         1\n",
       "474          475         0\n",
       "475          476         0\n",
       "476          477         0\n",
       "477          478         0"
      ]
     },
     "execution_count": 20,
     "metadata": {},
     "output_type": "execute_result"
    }
   ],
   "source": [
    "for x in range(473):\n",
    "    titanic_dataset.drop([x],axis=0,inplace=True)\n",
    "titanic_dataset.head()"
   ]
  },
  {
   "cell_type": "code",
   "execution_count": 21,
   "metadata": {},
   "outputs": [
    {
     "name": "stdout",
     "output_type": "stream",
     "text": [
      "Number of Passengers:418\n"
     ]
    }
   ],
   "source": [
    "print(\"Number of Passengers:\"+str(len(titanic_dataset)))"
   ]
  },
  {
   "cell_type": "code",
   "execution_count": 22,
   "metadata": {},
   "outputs": [],
   "source": [
    "##Train Data\n",
    "x=titanic_dataset.drop('Survived',axis=1)\n",
    "y=titanic_dataset['Survived']"
   ]
  },
  {
   "cell_type": "code",
   "execution_count": 23,
   "metadata": {},
   "outputs": [],
   "source": [
    "    from sklearn.model_selection import train_test_split\n",
    "    "
   ]
  },
  {
   "cell_type": "code",
   "execution_count": 24,
   "metadata": {},
   "outputs": [],
   "source": [
    "X_train,X_test,y_train,y_test=train_test_split(x,y,test_size=0.5,random_state=1)"
   ]
  },
  {
   "cell_type": "code",
   "execution_count": 25,
   "metadata": {},
   "outputs": [
    {
     "data": {
      "text/plain": [
       "LogisticRegression(C=1.0, class_weight=None, dual=False, fit_intercept=True,\n",
       "          intercept_scaling=1, max_iter=100, multi_class='warn',\n",
       "          n_jobs=None, penalty='l2', random_state=None, solver='warn',\n",
       "          tol=0.0001, verbose=0, warm_start=False)"
      ]
     },
     "execution_count": 25,
     "metadata": {},
     "output_type": "execute_result"
    }
   ],
   "source": [
    "from sklearn.linear_model import LogisticRegression\n",
    "import warnings\n",
    "warnings.filterwarnings(\"ignore\", category=FutureWarning)\n",
    "logmodel=LogisticRegression()\n",
    "logmodel.fit(X_train,y_train)"
   ]
  },
  {
   "cell_type": "code",
   "execution_count": 26,
   "metadata": {},
   "outputs": [],
   "source": [
    "predictions=logmodel.predict(X_test)\n",
    "\n"
   ]
  },
  {
   "cell_type": "code",
   "execution_count": 27,
   "metadata": {},
   "outputs": [],
   "source": [
    "from sklearn.metrics import classification_report\n",
    "import sklearn.exceptions\n",
    "warnings.filterwarnings(\"ignore\", category=sklearn.exceptions.UndefinedMetricWarning)"
   ]
  },
  {
   "cell_type": "code",
   "execution_count": 28,
   "metadata": {},
   "outputs": [
    {
     "data": {
      "text/plain": [
       "'              precision    recall  f1-score   support\\n\\n           0       0.63      1.00      0.77       131\\n           1       0.00      0.00      0.00        78\\n\\n   micro avg       0.63      0.63      0.63       209\\n   macro avg       0.31      0.50      0.39       209\\nweighted avg       0.39      0.63      0.48       209\\n'"
      ]
     },
     "execution_count": 28,
     "metadata": {},
     "output_type": "execute_result"
    }
   ],
   "source": [
    "classification_report(y_test,predictions)"
   ]
  },
  {
   "cell_type": "code",
   "execution_count": 29,
   "metadata": {},
   "outputs": [],
   "source": [
    "from sklearn.metrics import confusion_matrix"
   ]
  },
  {
   "cell_type": "code",
   "execution_count": 30,
   "metadata": {},
   "outputs": [
    {
     "data": {
      "text/plain": [
       "array([[131,   0],\n",
       "       [ 78,   0]])"
      ]
     },
     "execution_count": 30,
     "metadata": {},
     "output_type": "execute_result"
    }
   ],
   "source": [
    "confusion_matrix(y_test,predictions)"
   ]
  },
  {
   "cell_type": "code",
   "execution_count": 31,
   "metadata": {},
   "outputs": [],
   "source": [
    "from sklearn.metrics import accuracy_score"
   ]
  },
  {
   "cell_type": "code",
   "execution_count": 32,
   "metadata": {},
   "outputs": [
    {
     "data": {
      "text/plain": [
       "0.6267942583732058"
      ]
     },
     "execution_count": 32,
     "metadata": {},
     "output_type": "execute_result"
    }
   ],
   "source": [
    "accuracy_score(y_test,predictions)"
   ]
  },
  {
   "cell_type": "code",
   "execution_count": 33,
   "metadata": {},
   "outputs": [
    {
     "name": "stdout",
     "output_type": "stream",
     "text": [
      "760    0\n",
      "517    0\n",
      "758    0\n",
      "586    0\n",
      "826    0\n",
      "684    0\n",
      "581    1\n",
      "834    0\n",
      "642    0\n",
      "552    0\n",
      "871    1\n",
      "740    1\n",
      "557    0\n",
      "481    0\n",
      "873    0\n",
      "572    1\n",
      "837    0\n",
      "818    0\n",
      "838    1\n",
      "695    0\n",
      "501    0\n",
      "504    1\n",
      "782    0\n",
      "528    0\n",
      "886    0\n",
      "505    0\n",
      "817    0\n",
      "521    0\n",
      "820    1\n",
      "743    0\n",
      "      ..\n",
      "480    0\n",
      "614    0\n",
      "559    1\n",
      "825    0\n",
      "714    0\n",
      "688    0\n",
      "541    0\n",
      "523    1\n",
      "629    0\n",
      "725    0\n",
      "868    0\n",
      "830    1\n",
      "727    1\n",
      "749    0\n",
      "651    1\n",
      "754    1\n",
      "863    0\n",
      "710    1\n",
      "544    0\n",
      "602    0\n",
      "617    0\n",
      "808    0\n",
      "606    0\n",
      "676    0\n",
      "866    1\n",
      "728    0\n",
      "545    0\n",
      "869    1\n",
      "708    1\n",
      "510    1\n",
      "Name: Survived, Length: 209, dtype: int64\n"
     ]
    }
   ],
   "source": [
    "print(y_train)"
   ]
  },
  {
   "cell_type": "code",
   "execution_count": 34,
   "metadata": {},
   "outputs": [
    {
     "name": "stdout",
     "output_type": "stream",
     "text": [
      "831    1\n",
      "637    0\n",
      "490    0\n",
      "540    1\n",
      "477    0\n",
      "850    0\n",
      "687    0\n",
      "763    1\n",
      "854    0\n",
      "478    0\n",
      "811    0\n",
      "700    1\n",
      "664    1\n",
      "778    0\n",
      "824    0\n",
      "882    0\n",
      "703    0\n",
      "658    0\n",
      "574    0\n",
      "535    1\n",
      "764    0\n",
      "724    1\n",
      "701    1\n",
      "502    0\n",
      "729    0\n",
      "874    1\n",
      "612    1\n",
      "771    0\n",
      "861    0\n",
      "520    1\n",
      "      ..\n",
      "765    1\n",
      "806    0\n",
      "867    0\n",
      "618    1\n",
      "681    1\n",
      "515    0\n",
      "633    0\n",
      "812    0\n",
      "711    0\n",
      "718    0\n",
      "691    1\n",
      "883    0\n",
      "674    0\n",
      "819    0\n",
      "772    0\n",
      "686    0\n",
      "620    0\n",
      "696    0\n",
      "573    1\n",
      "507    1\n",
      "661    0\n",
      "583    0\n",
      "648    0\n",
      "526    1\n",
      "608    1\n",
      "877    0\n",
      "627    1\n",
      "492    0\n",
      "615    1\n",
      "631    0\n",
      "Name: Survived, Length: 209, dtype: int64\n"
     ]
    }
   ],
   "source": [
    "print(y_test)"
   ]
  },
  {
   "cell_type": "code",
   "execution_count": 35,
   "metadata": {},
   "outputs": [
    {
     "data": {
      "text/html": [
       "<div>\n",
       "<style scoped>\n",
       "    .dataframe tbody tr th:only-of-type {\n",
       "        vertical-align: middle;\n",
       "    }\n",
       "\n",
       "    .dataframe tbody tr th {\n",
       "        vertical-align: top;\n",
       "    }\n",
       "\n",
       "    .dataframe thead th {\n",
       "        text-align: right;\n",
       "    }\n",
       "</style>\n",
       "<table border=\"1\" class=\"dataframe\">\n",
       "  <thead>\n",
       "    <tr style=\"text-align: right;\">\n",
       "      <th></th>\n",
       "      <th>PassengerId</th>\n",
       "      <th>Survived</th>\n",
       "    </tr>\n",
       "  </thead>\n",
       "  <tbody>\n",
       "    <tr>\n",
       "      <th>473</th>\n",
       "      <td>474</td>\n",
       "      <td>1</td>\n",
       "    </tr>\n",
       "    <tr>\n",
       "      <th>474</th>\n",
       "      <td>475</td>\n",
       "      <td>0</td>\n",
       "    </tr>\n",
       "    <tr>\n",
       "      <th>475</th>\n",
       "      <td>476</td>\n",
       "      <td>0</td>\n",
       "    </tr>\n",
       "    <tr>\n",
       "      <th>476</th>\n",
       "      <td>477</td>\n",
       "      <td>0</td>\n",
       "    </tr>\n",
       "    <tr>\n",
       "      <th>477</th>\n",
       "      <td>478</td>\n",
       "      <td>0</td>\n",
       "    </tr>\n",
       "    <tr>\n",
       "      <th>478</th>\n",
       "      <td>479</td>\n",
       "      <td>0</td>\n",
       "    </tr>\n",
       "    <tr>\n",
       "      <th>479</th>\n",
       "      <td>480</td>\n",
       "      <td>1</td>\n",
       "    </tr>\n",
       "    <tr>\n",
       "      <th>480</th>\n",
       "      <td>481</td>\n",
       "      <td>0</td>\n",
       "    </tr>\n",
       "    <tr>\n",
       "      <th>481</th>\n",
       "      <td>482</td>\n",
       "      <td>0</td>\n",
       "    </tr>\n",
       "    <tr>\n",
       "      <th>482</th>\n",
       "      <td>483</td>\n",
       "      <td>0</td>\n",
       "    </tr>\n",
       "    <tr>\n",
       "      <th>483</th>\n",
       "      <td>484</td>\n",
       "      <td>1</td>\n",
       "    </tr>\n",
       "    <tr>\n",
       "      <th>484</th>\n",
       "      <td>485</td>\n",
       "      <td>1</td>\n",
       "    </tr>\n",
       "    <tr>\n",
       "      <th>485</th>\n",
       "      <td>486</td>\n",
       "      <td>0</td>\n",
       "    </tr>\n",
       "    <tr>\n",
       "      <th>486</th>\n",
       "      <td>487</td>\n",
       "      <td>1</td>\n",
       "    </tr>\n",
       "    <tr>\n",
       "      <th>487</th>\n",
       "      <td>488</td>\n",
       "      <td>0</td>\n",
       "    </tr>\n",
       "    <tr>\n",
       "      <th>488</th>\n",
       "      <td>489</td>\n",
       "      <td>0</td>\n",
       "    </tr>\n",
       "    <tr>\n",
       "      <th>489</th>\n",
       "      <td>490</td>\n",
       "      <td>1</td>\n",
       "    </tr>\n",
       "    <tr>\n",
       "      <th>490</th>\n",
       "      <td>491</td>\n",
       "      <td>0</td>\n",
       "    </tr>\n",
       "    <tr>\n",
       "      <th>491</th>\n",
       "      <td>492</td>\n",
       "      <td>0</td>\n",
       "    </tr>\n",
       "    <tr>\n",
       "      <th>492</th>\n",
       "      <td>493</td>\n",
       "      <td>0</td>\n",
       "    </tr>\n",
       "    <tr>\n",
       "      <th>493</th>\n",
       "      <td>494</td>\n",
       "      <td>0</td>\n",
       "    </tr>\n",
       "    <tr>\n",
       "      <th>494</th>\n",
       "      <td>495</td>\n",
       "      <td>0</td>\n",
       "    </tr>\n",
       "    <tr>\n",
       "      <th>495</th>\n",
       "      <td>496</td>\n",
       "      <td>0</td>\n",
       "    </tr>\n",
       "    <tr>\n",
       "      <th>496</th>\n",
       "      <td>497</td>\n",
       "      <td>1</td>\n",
       "    </tr>\n",
       "    <tr>\n",
       "      <th>497</th>\n",
       "      <td>498</td>\n",
       "      <td>0</td>\n",
       "    </tr>\n",
       "    <tr>\n",
       "      <th>498</th>\n",
       "      <td>499</td>\n",
       "      <td>0</td>\n",
       "    </tr>\n",
       "    <tr>\n",
       "      <th>499</th>\n",
       "      <td>500</td>\n",
       "      <td>0</td>\n",
       "    </tr>\n",
       "    <tr>\n",
       "      <th>500</th>\n",
       "      <td>501</td>\n",
       "      <td>0</td>\n",
       "    </tr>\n",
       "    <tr>\n",
       "      <th>501</th>\n",
       "      <td>502</td>\n",
       "      <td>0</td>\n",
       "    </tr>\n",
       "    <tr>\n",
       "      <th>502</th>\n",
       "      <td>503</td>\n",
       "      <td>0</td>\n",
       "    </tr>\n",
       "    <tr>\n",
       "      <th>...</th>\n",
       "      <td>...</td>\n",
       "      <td>...</td>\n",
       "    </tr>\n",
       "    <tr>\n",
       "      <th>861</th>\n",
       "      <td>862</td>\n",
       "      <td>0</td>\n",
       "    </tr>\n",
       "    <tr>\n",
       "      <th>862</th>\n",
       "      <td>863</td>\n",
       "      <td>1</td>\n",
       "    </tr>\n",
       "    <tr>\n",
       "      <th>863</th>\n",
       "      <td>864</td>\n",
       "      <td>0</td>\n",
       "    </tr>\n",
       "    <tr>\n",
       "      <th>864</th>\n",
       "      <td>865</td>\n",
       "      <td>0</td>\n",
       "    </tr>\n",
       "    <tr>\n",
       "      <th>865</th>\n",
       "      <td>866</td>\n",
       "      <td>1</td>\n",
       "    </tr>\n",
       "    <tr>\n",
       "      <th>866</th>\n",
       "      <td>867</td>\n",
       "      <td>1</td>\n",
       "    </tr>\n",
       "    <tr>\n",
       "      <th>867</th>\n",
       "      <td>868</td>\n",
       "      <td>0</td>\n",
       "    </tr>\n",
       "    <tr>\n",
       "      <th>868</th>\n",
       "      <td>869</td>\n",
       "      <td>0</td>\n",
       "    </tr>\n",
       "    <tr>\n",
       "      <th>869</th>\n",
       "      <td>870</td>\n",
       "      <td>1</td>\n",
       "    </tr>\n",
       "    <tr>\n",
       "      <th>870</th>\n",
       "      <td>871</td>\n",
       "      <td>0</td>\n",
       "    </tr>\n",
       "    <tr>\n",
       "      <th>871</th>\n",
       "      <td>872</td>\n",
       "      <td>1</td>\n",
       "    </tr>\n",
       "    <tr>\n",
       "      <th>872</th>\n",
       "      <td>873</td>\n",
       "      <td>0</td>\n",
       "    </tr>\n",
       "    <tr>\n",
       "      <th>873</th>\n",
       "      <td>874</td>\n",
       "      <td>0</td>\n",
       "    </tr>\n",
       "    <tr>\n",
       "      <th>874</th>\n",
       "      <td>875</td>\n",
       "      <td>1</td>\n",
       "    </tr>\n",
       "    <tr>\n",
       "      <th>875</th>\n",
       "      <td>876</td>\n",
       "      <td>1</td>\n",
       "    </tr>\n",
       "    <tr>\n",
       "      <th>876</th>\n",
       "      <td>877</td>\n",
       "      <td>0</td>\n",
       "    </tr>\n",
       "    <tr>\n",
       "      <th>877</th>\n",
       "      <td>878</td>\n",
       "      <td>0</td>\n",
       "    </tr>\n",
       "    <tr>\n",
       "      <th>878</th>\n",
       "      <td>879</td>\n",
       "      <td>0</td>\n",
       "    </tr>\n",
       "    <tr>\n",
       "      <th>879</th>\n",
       "      <td>880</td>\n",
       "      <td>1</td>\n",
       "    </tr>\n",
       "    <tr>\n",
       "      <th>880</th>\n",
       "      <td>881</td>\n",
       "      <td>1</td>\n",
       "    </tr>\n",
       "    <tr>\n",
       "      <th>881</th>\n",
       "      <td>882</td>\n",
       "      <td>0</td>\n",
       "    </tr>\n",
       "    <tr>\n",
       "      <th>882</th>\n",
       "      <td>883</td>\n",
       "      <td>0</td>\n",
       "    </tr>\n",
       "    <tr>\n",
       "      <th>883</th>\n",
       "      <td>884</td>\n",
       "      <td>0</td>\n",
       "    </tr>\n",
       "    <tr>\n",
       "      <th>884</th>\n",
       "      <td>885</td>\n",
       "      <td>0</td>\n",
       "    </tr>\n",
       "    <tr>\n",
       "      <th>885</th>\n",
       "      <td>886</td>\n",
       "      <td>0</td>\n",
       "    </tr>\n",
       "    <tr>\n",
       "      <th>886</th>\n",
       "      <td>887</td>\n",
       "      <td>0</td>\n",
       "    </tr>\n",
       "    <tr>\n",
       "      <th>887</th>\n",
       "      <td>888</td>\n",
       "      <td>1</td>\n",
       "    </tr>\n",
       "    <tr>\n",
       "      <th>888</th>\n",
       "      <td>889</td>\n",
       "      <td>0</td>\n",
       "    </tr>\n",
       "    <tr>\n",
       "      <th>889</th>\n",
       "      <td>890</td>\n",
       "      <td>1</td>\n",
       "    </tr>\n",
       "    <tr>\n",
       "      <th>890</th>\n",
       "      <td>891</td>\n",
       "      <td>0</td>\n",
       "    </tr>\n",
       "  </tbody>\n",
       "</table>\n",
       "<p>418 rows × 2 columns</p>\n",
       "</div>"
      ],
      "text/plain": [
       "     PassengerId  Survived\n",
       "473          474         1\n",
       "474          475         0\n",
       "475          476         0\n",
       "476          477         0\n",
       "477          478         0\n",
       "478          479         0\n",
       "479          480         1\n",
       "480          481         0\n",
       "481          482         0\n",
       "482          483         0\n",
       "483          484         1\n",
       "484          485         1\n",
       "485          486         0\n",
       "486          487         1\n",
       "487          488         0\n",
       "488          489         0\n",
       "489          490         1\n",
       "490          491         0\n",
       "491          492         0\n",
       "492          493         0\n",
       "493          494         0\n",
       "494          495         0\n",
       "495          496         0\n",
       "496          497         1\n",
       "497          498         0\n",
       "498          499         0\n",
       "499          500         0\n",
       "500          501         0\n",
       "501          502         0\n",
       "502          503         0\n",
       "..           ...       ...\n",
       "861          862         0\n",
       "862          863         1\n",
       "863          864         0\n",
       "864          865         0\n",
       "865          866         1\n",
       "866          867         1\n",
       "867          868         0\n",
       "868          869         0\n",
       "869          870         1\n",
       "870          871         0\n",
       "871          872         1\n",
       "872          873         0\n",
       "873          874         0\n",
       "874          875         1\n",
       "875          876         1\n",
       "876          877         0\n",
       "877          878         0\n",
       "878          879         0\n",
       "879          880         1\n",
       "880          881         1\n",
       "881          882         0\n",
       "882          883         0\n",
       "883          884         0\n",
       "884          885         0\n",
       "885          886         0\n",
       "886          887         0\n",
       "887          888         1\n",
       "888          889         0\n",
       "889          890         1\n",
       "890          891         0\n",
       "\n",
       "[418 rows x 2 columns]"
      ]
     },
     "execution_count": 35,
     "metadata": {},
     "output_type": "execute_result"
    }
   ],
   "source": [
    "titanic_dataset"
   ]
  },
  {
   "cell_type": "code",
   "execution_count": 36,
   "metadata": {},
   "outputs": [
    {
     "name": "stdout",
     "output_type": "stream",
     "text": [
      "Number of Passengers:418\n"
     ]
    }
   ],
   "source": [
    "print(\"Number of Passengers:\"+str(len(titanic_dataset)))"
   ]
  },
  {
   "cell_type": "code",
   "execution_count": 37,
   "metadata": {},
   "outputs": [
    {
     "data": {
      "text/html": [
       "<a download=\"data.csv\" href=\"data:text/csv;base64,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\" target=\"_blank\">Download CSV file</a>"
      ],
      "text/plain": [
       "<IPython.core.display.HTML object>"
      ]
     },
     "execution_count": 37,
     "metadata": {},
     "output_type": "execute_result"
    }
   ],
   "source": [
    "from IPython.display import HTML\n",
    "import base64  \n",
    "import pandas as pd  \n",
    "\n",
    "def create_download_link( df, title = \"Download CSV file\", filename = \"data.csv\"):  \n",
    "    csv = df.to_csv(index =False)\n",
    "    b64 = base64.b64encode(csv.encode())\n",
    "    payload = b64.decode()\n",
    "    html = '<a download=\"{filename}\" href=\"data:text/csv;base64,{payload}\" target=\"_blank\">{title}</a>'\n",
    "    html = html.format(payload=payload,title=title,filename=filename)\n",
    "    return HTML(html)\n",
    "\n",
    "create_download_link(titanic_dataset)"
   ]
  },
  {
   "cell_type": "code",
   "execution_count": null,
   "metadata": {},
   "outputs": [],
   "source": []
  }
 ],
 "metadata": {
  "kernelspec": {
   "display_name": "Python 3",
   "language": "python",
   "name": "python3"
  },
  "language_info": {
   "codemirror_mode": {
    "name": "ipython",
    "version": 3
   },
   "file_extension": ".py",
   "mimetype": "text/x-python",
   "name": "python",
   "nbconvert_exporter": "python",
   "pygments_lexer": "ipython3",
   "version": "3.7.1"
  }
 },
 "nbformat": 4,
 "nbformat_minor": 2
}
